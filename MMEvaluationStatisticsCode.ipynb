{
 "cells": [
  {
   "cell_type": "code",
   "execution_count": null,
   "metadata": {},
   "outputs": [],
   "source": [
    "from __future__ import division\n",
    "from __future__ import unicode_literals\n",
    "from __future__ import print_function\n",
    "\n",
    "\n",
    "import nltk, re, pprint\n",
    "from nltk import word_tokenize, pos_tag, sent_tokenize\n",
    "from nltk.corpus import wordnet as wn\n",
    "import io\n",
    "\n",
    "import urllib\n",
    "from urllib import urlopen\n",
    "from bs4 import BeautifulSoup\n",
    "from textwrap import fill\n",
    "import numpy as np#for math processing\n",
    "import matplotlib #for graphs\n",
    "from numpy import arange #to handle ranges\n",
    "from matplotlib import pyplot #plotting \n",
    "import networkx as nx # brings up node configs\n",
    "\n",
    "import unicodedata\n",
    "import random\n",
    "from collections import defaultdict\n",
    "import csv\n",
    "import pandas\n",
    "import xlrd\n",
    "def __unicode__(self):\n",
    "\n",
    "    return  u''"
   ]
  },
  {
   "cell_type": "code",
   "execution_count": null,
   "metadata": {},
   "outputs": [],
   "source": [
    "df = pandas.read_excel('filename')\n",
    "df"
   ]
  },
  {
   "cell_type": "code",
   "execution_count": null,
   "metadata": {},
   "outputs": [],
   "source": [
    "df.columns = [\"PAT_DEID\",\n",
    "\"NOTE_DEID\",\n",
    "\"NOTE\",\n",
    "\"NOTE_CODE\",\n",
    "u'NLPGeneral', u'NLPRegional', u'NLPLocal', u'ExpertGeneral', u'ExpertRegional',\n",
    "       u'ExpertLocal']\n",
    "\n"
   ]
  },
  {
   "cell_type": "code",
   "execution_count": null,
   "metadata": {},
   "outputs": [],
   "source": [
    "df = df.drop(df.index[0])\n",
    "df.reset_index()"
   ]
  },
  {
   "cell_type": "code",
   "execution_count": null,
   "metadata": {},
   "outputs": [],
   "source": [
    "print(df.columns)\n",
    "for column in df.columns[4:10]:\n",
    "    df[column] = df[column].astype(int) \n",
    "df[\"NLPGeneral\"][96]"
   ]
  },
  {
   "cell_type": "code",
   "execution_count": null,
   "metadata": {},
   "outputs": [],
   "source": [
    "import random\n",
    "r = random.sample(range(600, 800), 100)\n",
    "p = random.sample(range(0,1000), 100)\n",
    "len(df)\n",
    "df[\"NOTE_DEID\"] = r\n",
    "df[\"PAT_DEID\"] = p"
   ]
  },
  {
   "cell_type": "code",
   "execution_count": null,
   "metadata": {},
   "outputs": [],
   "source": []
  },
  {
   "cell_type": "code",
   "execution_count": null,
   "metadata": {},
   "outputs": [],
   "source": [
    "#for hierarchical indexing:\n",
    "df2 = df[[\n",
    "    u'NLPGeneral',\n",
    "    u'NLPRegional', u'NLPLocal', u'ExpertGeneral', u'ExpertRegional',\n",
    "       u'ExpertLocal']]\n",
    "tup = [(\"NLP\",\"General\"), (\"NLP\",\"Regional\"), (\"NLP\",\"Local\"), (\"Expert\",\"General\"), (\"Expert\",\"Regional\"), (\"Expert\",\"Local\")]\n",
    "columns = pandas.MultiIndex.from_tuples(tup)\n",
    "df2.columns = columns"
   ]
  },
  {
   "cell_type": "code",
   "execution_count": null,
   "metadata": {},
   "outputs": [],
   "source": [
    "# This creates a third dataframe where the overall values are stored -- is needed to keep track of which rows pertain to which surgery/note\n",
    "comparison1 = pandas.DataFrame()\n",
    "comparison1[\"Index\"] = df.index\n",
    "comparison1[\"NOTE_CODE\"] = df[\"NOTE_CODE\"]\n",
    "comparison1[\"General\"] = np.nan\n",
    "comparison1[\"Regional\"] = np.nan\n",
    "comparison1[\"Local\"] = np.nan\n",
    "comparison1[\"Overall\"] = np.nan"
   ]
  },
  {
   "cell_type": "code",
   "execution_count": null,
   "metadata": {},
   "outputs": [],
   "source": [
    "#combined.reset_index()\n",
    "#combined.index = range(88)\n",
    "combined= df\n",
    "\n",
    "# stores all the accuracy values in a dataframe that has been sorted by type of operation\n",
    "for i in range(1, len(combined)):\n",
    "    if combined.loc[i, \"NLPGeneral\"] == 1 & combined.loc[i, \"ExpertGeneral\"] == 1:\n",
    "        comparison1.loc[i,\"General\"] = 1\n",
    "    if combined.loc[i, \"NLPRegional\"] == 1 & combined.loc[i, \"ExpertRegional\"] == 1:\n",
    "        comparison1.loc[i,\"Regional\"] = 1\n",
    "    if combined.loc[i, \"NLPLocal\"] == 1 & combined.loc[i, \"ExpertLocal\"] == 1:\n",
    "        comparison1.loc[i,\"Local\"] = 1\n",
    "    comparison1.loc[i, \"Overall\"] = comparison1.loc[i,\"General\"] + comparison1.loc[i,\"Regional\"] + comparison1.loc[i,\"Local\"]\n",
    "comparison1 = comparison1.fillna(0)\n",
    "\n",
    "\n",
    "combined[\"NLPOVERALL\"] = np.nan\n",
    "combined[\"ExpertOverall\"] = np.nan\n",
    "for i in range(1, len(combined)+1):\n",
    "    \n",
    "    combined.loc[i, \"NLPOVERALL\"] = (combined.loc[i, \"NLPGeneral\"]) + (combined.loc[i, \"NLPRegional\"]) + combined.loc[i, \"NLPLocal\"]\n",
    "    combined.loc[i, \"ExpertOverall\"] = combined.loc[i, \"ExpertGeneral\"] + combined.loc[i, \"ExpertRegional\"] + combined.loc[i, \"ExpertLocal\"]"
   ]
  },
  {
   "cell_type": "code",
   "execution_count": null,
   "metadata": {},
   "outputs": [],
   "source": [
    "G_auto = pandas.Series(list(combined[\"NLPGeneral\"].values))\n",
    "G_clini = pandas.Series(list(combined[\"ExpertGeneral\"].values))\n",
    "General_CF = pandas.crosstab(G_clini, G_auto, rownames=['True'], colnames=['Predicted'], margins=True)\n",
    "\n",
    "###\n",
    "R_auto = pandas.Series(list(combined[\"NLPRegional\"].values))\n",
    "R_clini = pandas.Series(list(combined[\"ExpertRegional\"].values))\n",
    "Regional_CF = pandas.crosstab(R_clini, R_auto, rownames=['True'], colnames=['Predicted'], margins=True)\n",
    "\n",
    "###\n",
    "L_auto = pandas.Series(list(combined[\"NLPLocal\"].values))\n",
    "L_clini = pandas.Series(list(combined[\"ExpertLocal\"].values))\n",
    "Local_CF = pandas.crosstab(L_clini, L_auto, rownames=['True'], colnames=['Predicted'], margins=True)\n",
    "\n",
    "###\n",
    "\n",
    "O_auto = pandas.Series(list(combined[\"NLPOVERALL\"].values))\n",
    "O_clini = pandas.Series(list(combined[\"ExpertOverall\"].values))\n",
    "Overall_CF = pandas.crosstab(O_clini, O_auto, rownames=['True'], colnames=['Predicted'], margins=True)"
   ]
  },
  {
   "cell_type": "code",
   "execution_count": null,
   "metadata": {},
   "outputs": [],
   "source": [
    "General_PPV = General_CF.loc[1,1]\n",
    "General_False_Pos = General_CF.loc[0,1]\n",
    "General_NPV = General_CF.loc[0,0]\n",
    "General_False_Neg = General_CF.loc[1,0]\n",
    "\n",
    "Regional_PPV = Regional_CF.loc[1,1]\n",
    "Regional_False_Pos = Regional_CF.loc[0,1]\n",
    "Regional_NPV  = Regional_CF.loc[0,0]\n",
    "Regional_False_Neg = Regional_CF.loc[1,0]\n",
    "\n",
    "Local_PPV = Local_CF.loc[1,1]\n",
    "Local_False_Pos = Local_CF.loc[0,1]\n",
    "Local_NPV =  Local_CF.loc[0,0]\n",
    "Local_False_Neg = Local_CF.loc[1,0]\n",
    "\n",
    "Overall_PPV = Overall_CF.loc[1,1] + Overall_CF.loc[2,2]\n",
    "Overall_False_Pos = Overall_CF.loc[0,1] + Overall_CF.loc[0,2] + Overall_CF.loc[1,2]\n",
    "Overall_NPV = Overall_CF.loc[0,0] #fine\n",
    "Overall_False_Neg = Overall_CF.loc[1,0] + Overall_CF.loc[2,0] + Overall_CF.loc[2,1]\n"
   ]
  },
  {
   "cell_type": "raw",
   "metadata": {
    "scrolled": true
   },
   "source": [
    "stats_Regional = pandas.DataFrame()\n",
    "stats1 = combined.groupby('NOTE_CODE').count()"
   ]
  },
  {
   "cell_type": "code",
   "execution_count": null,
   "metadata": {},
   "outputs": [],
   "source": [
    "results = pandas.DataFrame({'class': ['General',\"Regional\",\"Local\", \"Overall\"],\n",
    "                        'tp': [General_PPV, Regional_PPV, Local_PPV, Overall_PPV],\n",
    "                        'fp': [General_False_Pos, Regional_False_Pos, Local_False_Pos, Overall_False_Pos],\n",
    "                        'tn': [General_NPV, Regional_NPV, Local_NPV, Overall_NPV],\n",
    "                        'fn': [General_False_Neg, Regional_False_Neg, Local_False_Neg, Overall_False_Neg]\n",
    "                       })"
   ]
  },
  {
   "cell_type": "code",
   "execution_count": null,
   "metadata": {},
   "outputs": [],
   "source": [
    "def calculate_metrics(results):\n",
    "    roc = pandas.DataFrame(index = results['class'], columns=['recall', 'precision', 'f1', 'tpr', 'fpr'])\n",
    "    \n",
    "    for i in results.iterrows():\n",
    "        t, fn, fp, tn, tp = i[1]\n",
    "        \n",
    "\n",
    "        print(int(tp) + int(fp) + int(tn) + int(fn))\n",
    "        assert int(tp) + int(fp) + int(tn) + int(fn) == 25 or int(tp) + int(fp) + int(tn) + int(fn) == 100 , 'must equal length of dataset or else'\n",
    "        \n",
    "        recall = tp / (tp + fn)\n",
    "        \n",
    "        if tp == fp == 0:\n",
    "            precision = 0\n",
    "            true_positive_rate = 0\n",
    "        \n",
    "        else:\n",
    "            precision = tp / (tp + fp)\n",
    "            true_positive_rate = tp / (tp + fn)\n",
    "            \n",
    "        if precision == recall == 0:\n",
    "            f1 = 0\n",
    "        else:\n",
    "            f1 = 2 * (precision * recall) / (precision + recall)\n",
    "        \n",
    "        if fp + tn == 0:\n",
    "            \n",
    "            false_positive_rate =0\n",
    "        else:\n",
    "            false_positive_rate = fp / (fp + tn)\n",
    "        \n",
    "        roc.loc[t, 'recall'] = recall\n",
    "        roc.loc[t, 'precision'] = precision\n",
    "        roc.loc[t, 'f1'] = f1\n",
    "        roc.loc[t, 'tpr'] = true_positive_rate\n",
    "        roc.loc[t, 'fpr'] = false_positive_rate\n",
    "    \n",
    "    return roc"
   ]
  },
  {
   "cell_type": "code",
   "execution_count": null,
   "metadata": {},
   "outputs": [],
   "source": [
    "roc = calculate_metrics(results)\n",
    "roc.reset_index()"
   ]
  },
  {
   "cell_type": "code",
   "execution_count": null,
   "metadata": {},
   "outputs": [],
   "source": [
    "stats2 = pandas.DataFrame()\n",
    "stats1 = combined.groupby('NOTE_CODE').count()\n",
    "stats2[\"General\"] = np.nan\n",
    "stats2[\"Regional\"] = np.nan\n",
    "stats2[\"Local\"] = np.nan\n",
    "stats2[\"Count\"] = [value for value in list(stats1[\"NOTE_DEID\"].values)]\n",
    "stats2[\"Percent\"] = np.nan"
   ]
  },
  {
   "cell_type": "code",
   "execution_count": null,
   "metadata": {},
   "outputs": [],
   "source": [
    "notemismatch = random.sample(range(600,650), 50)\n",
    "print(notemismatch)\n",
    "(df.loc[df['NOTE_DEID'].isin(notemismatch)])"
   ]
  },
  {
   "cell_type": "code",
   "execution_count": null,
   "metadata": {},
   "outputs": [],
   "source": [
    "stats2.index = [index for index in stats1.index]"
   ]
  },
  {
   "cell_type": "code",
   "execution_count": null,
   "metadata": {},
   "outputs": [],
   "source": [
    "for row in stats2.index:\n",
    "    df1 = comparison1.loc[comparison1['NOTE_CODE'] == row]\n",
    "    #stats2.at(i, \"General\") = 0\n",
    "    #print(str(\"General \") + str(sum(df1[\"General\"].values))) #df1 takes its values from comparison1, so its values are already finalized/have been compared\n",
    "    stats2.loc[row, 'General'] = sum(df1[\"General\"].values)\n",
    "    \n",
    "    stats2.loc[row, 'Regional'] = sum(df1[\"Regional\"].values)\n",
    "    \n",
    "    stats2.loc[row, 'Local'] = sum(df1[\"Local\"].values)\n",
    "    \n",
    "    stats2.loc[row,\"Percent\"] = max(sum(df1[\"General\"].values), sum(df1[\"Regional\"].values), sum(df1[\"Local\"].values))/stats2.loc[row, 'Count']\n"
   ]
  },
  {
   "cell_type": "code",
   "execution_count": null,
   "metadata": {},
   "outputs": [],
   "source": [
    "import matplotlib"
   ]
  },
  {
   "cell_type": "code",
   "execution_count": null,
   "metadata": {},
   "outputs": [],
   "source": [
    "import seaborn as sn\n",
    "import matplotlib.pyplot as plt"
   ]
  },
  {
   "cell_type": "code",
   "execution_count": null,
   "metadata": {},
   "outputs": [],
   "source": [
    "\n",
    "\n",
    "df_O = pandas.DataFrame(Overall_CF/len(comparison1), range(3),\n",
    "                  range(3))\n",
    "\n",
    "sn.set(font_scale=1.4)#for label size\n",
    "sn.heatmap(df_O, annot=True,annot_kws={\"size\": 16}, cmap=\"Blues\")# font size\n"
   ]
  },
  {
   "cell_type": "code",
   "execution_count": null,
   "metadata": {},
   "outputs": [],
   "source": [
    "\n",
    "\n",
    "df_G = pandas.DataFrame(General_CF, range(2),\n",
    "                  range(2))\n",
    "\n",
    "\n",
    "sn.set(font_scale=1.4)#for label size\n",
    "sn.heatmap(df_G, annot=True,annot_kws={\"size\": 16}, cmap=\"Blues\")# font size\n"
   ]
  },
  {
   "cell_type": "code",
   "execution_count": null,
   "metadata": {},
   "outputs": [],
   "source": [
    "\n",
    "\n",
    "df_R = pandas.DataFrame(Regional_CF, range(2),\n",
    "                  range(2))\n",
    "\n",
    "\n",
    "sn.set(font_scale=1.4)#for label size\n",
    "sn.heatmap(df_R, annot=True,annot_kws={\"size\": 16}, cmap=\"Greens\")# font size"
   ]
  },
  {
   "cell_type": "code",
   "execution_count": null,
   "metadata": {},
   "outputs": [],
   "source": [
    "\n",
    "df_L = pandas.DataFrame(Local_CF, range(2),\n",
    "                  range(2))\n",
    "\n",
    "\n",
    "sn.set(font_scale=1.4)#for label size\n",
    "sn.heatmap(df_L, annot=True,annot_kws={\"size\": 16}, cmap=\"Purples\", fmt='g')# font size"
   ]
  },
  {
   "cell_type": "code",
   "execution_count": null,
   "metadata": {},
   "outputs": [],
   "source": [
    "#wht levels of pain are there?\n",
    "# maybe tally up overlaps (like single out ones with multiple anesthesia types)\n",
    "# Could potentially count patients with mutliple operations, but there runs the risk of getting patients with \n",
    "# consider doing both 30days - baseline and 30 days only, see which is more telling?\n",
    "#run through and append a dataframe based on note ID\n",
    "# general distributions\n"
   ]
  },
  {
   "cell_type": "code",
   "execution_count": null,
   "metadata": {},
   "outputs": [],
   "source": [
    "stats2[\"Multiple Types Count\"] = np.nan\n"
   ]
  },
  {
   "cell_type": "code",
   "execution_count": null,
   "metadata": {},
   "outputs": [],
   "source": [
    "counts = []\n",
    "for row in stats2.index:\n",
    "    count =  0\n",
    "    df1 = combined.loc[combined['NOTE_CODE'] == row]\n",
    "    df1.reset_index()\n",
    "    for i in range(df1.index[0], len(df1)+df1.index[0]):\n",
    "        if df1.loc[i, \"Overall\"] > 1:\n",
    "            #stats2.loc[row, \"Multiple Types Count\"] = stats2.loc[row, \"Multiple Types Count\"] +1\n",
    "            count = count +1\n",
    "    counts.append(count)\n",
    "        "
   ]
  },
  {
   "cell_type": "code",
   "execution_count": null,
   "metadata": {},
   "outputs": [],
   "source": [
    "stats2[\"Multiple Types Count\"] = [count for count in counts]"
   ]
  },
  {
   "cell_type": "code",
   "execution_count": null,
   "metadata": {},
   "outputs": [],
   "source": [
    "surgerytypes= combined.groupby('NOTE_CODE').count()"
   ]
  },
  {
   "cell_type": "code",
   "execution_count": null,
   "metadata": {},
   "outputs": [],
   "source": [
    "\n",
    "df_O = pandas.DataFrame(Overall_CF/len(comparison1), range(3),\n",
    "                  range(3))\n",
    "\n",
    "sn.set(font_scale=1.4)#for label size\n",
    "sn.heatmap(df_O, annot=True,annot_kws={\"size\": 16}, cmap=\"Blues\")# font size\n"
   ]
  },
  {
   "cell_type": "code",
   "execution_count": null,
   "metadata": {
    "scrolled": true
   },
   "outputs": [],
   "source": [
    "\n",
    "stats2\n",
    "stats2[\"type\"] = [type for type in stats2.index]\n",
    "stats2[\"General%\"] = np.nan\n",
    "stats2[\"Regional%\"] = np.nan\n",
    "stats2[\"Local%\"] = np.nan\n",
    "for index, row in stats2.iterrows():\n",
    "    stats2.loc[index, \"General%\"] = stats2.loc[index, \"General\"]/stats2.loc[index, \"Count\"] * 100\n",
    "    stats2.loc[index, \"Regional%\"] = stats2.loc[index, \"Regional\"]/stats2.loc[index, \"Count\"] *100 \n",
    "    stats2.loc[index, \"Local%\"] = stats2.loc[index, \"Local\"]/stats2.loc[index, \"Count\"] * 100\n",
    "    \n",
    "stats2[\"Multiple Types Count\"] = np.nan\n",
    "counts = []\n",
    "for row in stats2.index:\n",
    "    count =  0\n",
    "    df1 = combined.loc[combined['NOTE_CODE'] == row]\n",
    "    df1.reset_index()\n",
    "    for i in range(df1.index[0], len(df1)+df1.index[0]):\n",
    "        if df1.loc[i, \"Overall\"] > 1:\n",
    "            #stats2.loc[row, \"Multiple Types Count\"] = stats2.loc[row, \"Multiple Types Count\"] +1\n",
    "            count = count +1\n",
    "    counts.append(count)\n",
    "stats2[\"Multiple Types Count\"] = [count for count in counts]\n",
    "\n",
    "#sn.barplot(stats2.index,  stats2.General stats2.Regional , data=stats2, palette=\"Blues_d\")"
   ]
  },
  {
   "cell_type": "code",
   "execution_count": null,
   "metadata": {},
   "outputs": [],
   "source": [
    "data1 = stats2[[\"General%\",\"Regional%\",\"Local%\",\"type\"]]\n",
    "data1.columns = [\"General\", \"Regional\",\"Local\",\"Note Code\"]\n",
    "data1m = data1.melt('Note Code', var_name='Anesthesia Type', value_name='Percent')\n",
    "data2 = stats2[[\"General\",\"Regional\",\"Local\",\"type\"]]\n",
    "\n",
    "data1m = data1m.sort_values(by=['Note Code'])\n"
   ]
  },
  {
   "cell_type": "code",
   "execution_count": null,
   "metadata": {
    "scrolled": true
   },
   "outputs": [],
   "source": [
    "import seaborn as sns\n",
    "\n",
    "cmap = sns.color_palette(\"GnBu_r\")#sns.cubehelix_palette()   \n",
    "sns.set_style('ticks')\n",
    "fig, ax = plt.subplots()\n",
    "# the size of A4 paper\n",
    "fig.set_size_inches(15, 5)\n",
    "counts = sns.barplot(x='Note Code', y='Percent', hue='Anesthesia Type', data=data1m, palette=cmap)\n",
    "new_title = 'Anesthesia Type Frequency vs. Type of Note'\n",
    "counts.set_title(new_title)\n",
    "\n",
    "    \n",
    "plt.show()\n",
    "# replace labels"
   ]
  },
  {
   "cell_type": "code",
   "execution_count": null,
   "metadata": {},
   "outputs": [],
   "source": [
    "#     \n",
    "df_O = pandas.DataFrame(Overall_CF, range(1,3),\n",
    "                  range(1,3))\n",
    "sn.set(font_scale=1.4)#for label size\n",
    "sn.heatmap(df_O, annot=True,annot_kws={\"size\": 16}, cmap=\"Blues\", fmt='g')# font size"
   ]
  },
  {
   "cell_type": "code",
   "execution_count": null,
   "metadata": {},
   "outputs": [],
   "source": [
    "roc2 = roc.melt('type1', var_name='metric', value_name='value')"
   ]
  },
  {
   "cell_type": "code",
   "execution_count": null,
   "metadata": {},
   "outputs": [],
   "source": [
    "roc[\"type1\"] = [value for value in roc.index]"
   ]
  },
  {
   "cell_type": "code",
   "execution_count": null,
   "metadata": {},
   "outputs": [],
   "source": [
    "roc"
   ]
  },
  {
   "cell_type": "code",
   "execution_count": null,
   "metadata": {},
   "outputs": [],
   "source": [
    "df1 = combined.loc[combined['NOTE_CODE'] == \"T.10003\"]\n",
    "df1.reset_index()\n",
    "O_auto = pandas.Series(list(df1[\"Overall\"].values))\n",
    "O_clini = pandas.Series(list(df1[\"overall\"].values))\n",
    "Note1_CF = pandas.crosstab(O_clini, O_auto, rownames=['True'], colnames=['Predicted'], margins=True)  \n",
    "\n",
    "df1 = combined.loc[combined['NOTE_CODE'] == \"T.10004\"]\n",
    "df1.reset_index()\n",
    "O_auto = pandas.Series(list(df1[\"Overall\"].values))\n",
    "O_clini = pandas.Series(list(df1[\"overall\"].values))\n",
    "Note2_CF = pandas.crosstab(O_clini, O_auto, rownames=['True'], colnames=['Predicted'], margins=True)  \n",
    "\n",
    "df1 = combined.loc[combined['NOTE_CODE'] == \"I.28\"]\n",
    "df1.reset_index()\n",
    "O_auto = pandas.Series(list(df1[\"Overall\"].values))\n",
    "O_clini = pandas.Series(list(df1[\"overall\"].values))\n",
    "Note3_CF = pandas.crosstab(O_clini, O_auto, rownames=['True'], colnames=['Predicted'], margins=True)  \n",
    "\n",
    "#for additional types of notes. \n",
    "df1 = combined.loc[combined['NOTE_CODE'] == \"\"]\n",
    "df1.reset_index()\n",
    "O_auto = pandas.Series(list(df1[\"Overall\"].values)) # the machine\n",
    "O_clini = pandas.Series(list(df1[\"overall\"].values)) # clinician \n",
    "Note4_CF = pandas.crosstab(O_clini, O_auto, rownames=['True'], colnames=['Predicted'], margins=True)  \n",
    "\n",
    "# val = [PPV, False Pos, NPV, False Neg], update coordinates\n",
    "Note1val = [Note1_CF.loc[2,2]+ Note1_CF.loc[1,1], Note1_CF.loc[1,2], 0 , Note1_CF.loc[2,1]]\n",
    "Note2val = [Note2_CF.loc[2,2]+Note2_CF.loc[1,1], Note2_CF.loc[1,2], 0, Note2_CF.loc[2,1]]\n",
    "Note3val = [Note3_CF.loc[2,2]+Note3_CF.loc[1,1],  Note3_CF.loc[1,2], 0, Note3_CF.loc[2,1]]\n",
    "Note4val = [Note4_CF.loc[1,1], Note4_CF.loc[0,1], Note4_CF.loc[0,0],Note4_CF.loc[1,0]]\n",
    "\n",
    "\n",
    "O_auto = pandas.Series(list(combined[\"Overall\"].values))\n",
    "O_clini = pandas.Series(list(combined[\"overall\"].values))\n",
    "Overall_CF = pandas.crosstab(O_clini, O_auto, rownames=['True'], colnames=['Predicted'], margins=True)\n",
    "\n",
    "\n",
    "Overallval = [Overall_CF.loc[1,1] + Overall_CF.loc[2,2], Overall_CF.loc[0,1] + Overall_CF.loc[0,2] + Overall_CF.loc[1,2],\n",
    "              Overall_CF.loc[0,0], Overall_CF.loc[1,0] + Overall_CF.loc[2,0] + Overall_CF.loc[2,1]]\n",
    "\n",
    "\n",
    "#change these to note codes. \n",
    "\n",
    "resultsS = pandas.DataFrame({'metric': ['tp','fp','tn','fn'],\n",
    "                        'DISTAL RADIAL FRACTURE': [value for value in Note1val],\n",
    "                        'KNEE REPLACEMENT': [value for value in Note2val],\n",
    "                        'MASTECTOMY': [value for value in Note3val],\n",
    "                        'THORACOTOMY': [value for value in Note4val],\n",
    "                        'Overall': [value for value in Overallval]\n",
    "                       })\n"
   ]
  },
  {
   "cell_type": "code",
   "execution_count": null,
   "metadata": {},
   "outputs": [],
   "source": [
    "resultsS = resultsS.transpose()\n",
    "resultsS"
   ]
  },
  {
   "cell_type": "code",
   "execution_count": null,
   "metadata": {},
   "outputs": [],
   "source": [
    "resultsS.columns = ['tp','fp','tn','fn']"
   ]
  },
  {
   "cell_type": "code",
   "execution_count": null,
   "metadata": {},
   "outputs": [],
   "source": [
    "resultsS = resultsS.drop('metric')"
   ]
  },
  {
   "cell_type": "code",
   "execution_count": null,
   "metadata": {},
   "outputs": [],
   "source": [
    "resultsS[\"class\"] = [val for val in resultsS.index]"
   ]
  },
  {
   "cell_type": "code",
   "execution_count": null,
   "metadata": {},
   "outputs": [],
   "source": [
    "\n",
    "roc = calculate_metrics(resultsS)\n",
    "roc.reset_index()"
   ]
  },
  {
   "cell_type": "code",
   "execution_count": null,
   "metadata": {},
   "outputs": [],
   "source": [
    "resultsS = resultsS[['class', 'tp',\n",
    "'fp',\n",
    "'tn',\n",
    "'fn',\n",
    "]]"
   ]
  },
  {
   "cell_type": "code",
   "execution_count": null,
   "metadata": {},
   "outputs": [],
   "source": [
    "results"
   ]
  },
  {
   "cell_type": "code",
   "execution_count": null,
   "metadata": {},
   "outputs": [],
   "source": [
    "\n",
    "roc = calculate_metrics(resultsS)\n",
    "roc.reset_index()"
   ]
  }
 ],
 "metadata": {
  "kernelspec": {
   "display_name": "Python 2",
   "language": "python",
   "name": "python2"
  },
  "language_info": {
   "codemirror_mode": {
    "name": "ipython",
    "version": 2
   },
   "file_extension": ".py",
   "mimetype": "text/x-python",
   "name": "python",
   "nbconvert_exporter": "python",
   "pygments_lexer": "ipython2",
   "version": "2.7.11"
  }
 },
 "nbformat": 4,
 "nbformat_minor": 2
}
